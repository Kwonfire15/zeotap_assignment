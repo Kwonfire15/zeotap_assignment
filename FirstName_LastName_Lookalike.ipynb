{
 "cells": [
  {
   "cell_type": "code",
   "execution_count": 21,
   "id": "4ec5ac96",
   "metadata": {},
   "outputs": [],
   "source": [
    "import pandas as pd\n",
    "from sklearn.preprocessing import StandardScaler\n",
    "from sklearn.metrics.pairwise import cosine_similarity\n",
    "import numpy as np\n",
    "from sklearn.metrics import accuracy_score\n"
   ]
  },
  {
   "cell_type": "code",
   "execution_count": 22,
   "id": "d95a1783",
   "metadata": {},
   "outputs": [],
   "source": [
    "customers = pd.read_csv(r\"C:\\Users\\khira\\Downloads\\Customers.csv\")\n",
    "transactions = pd.read_csv(r\"C:\\Users\\khira\\Downloads\\Transactions.csv\")\n",
    "products = pd.read_csv(r\"C:\\Users\\khira\\Downloads\\Products.csv\")"
   ]
  },
  {
   "cell_type": "code",
   "execution_count": 23,
   "id": "a6e0cc64",
   "metadata": {},
   "outputs": [],
   "source": [
    "transactions = transactions.merge(customers, on='CustomerID', how='left')\n",
    "transactions = transactions.merge(products, on='ProductID', how='left')"
   ]
  },
  {
   "cell_type": "code",
   "execution_count": 24,
   "id": "c1f90a0f",
   "metadata": {},
   "outputs": [],
   "source": [
    "if not pd.api.types.is_numeric_dtype(transactions['TotalValue']):\n",
    "    transactions['TotalValue'] = pd.to_numeric(transactions['TotalValue'], errors='coerce')"
   ]
  },
  {
   "cell_type": "code",
   "execution_count": 25,
   "id": "2be2133b",
   "metadata": {},
   "outputs": [],
   "source": [
    "if 'Price' not in transactions.columns or not pd.api.types.is_numeric_dtype(transactions['Price']):\n",
    "    transactions['Price'] = 0  # Default to 0 if missing or non-numeric"
   ]
  },
  {
   "cell_type": "code",
   "execution_count": 26,
   "id": "91931c17",
   "metadata": {},
   "outputs": [],
   "source": [
    "customer_features = transactions.groupby('CustomerID').agg({\n",
    "    'TotalValue': 'sum',  # Total spending\n",
    "    'Quantity': 'sum',  # Total products purchased\n",
    "    'Price': 'mean',  # Average price of products purchased\n",
    "    'Category': lambda x: x.mode()[0] if not x.mode().empty else 'Unknown'  # Most frequent category\n",
    "}).reset_index()"
   ]
  },
  {
   "cell_type": "code",
   "execution_count": 27,
   "id": "b3511b8e",
   "metadata": {},
   "outputs": [],
   "source": [
    "customer_features = pd.get_dummies(customer_features, columns=['Category'], drop_first=True)"
   ]
  },
  {
   "cell_type": "code",
   "execution_count": 28,
   "id": "20161079",
   "metadata": {},
   "outputs": [],
   "source": [
    "scaler = StandardScaler()\n",
    "scaled_features = scaler.fit_transform(customer_features.drop(columns=['CustomerID']))"
   ]
  },
  {
   "cell_type": "code",
   "execution_count": 29,
   "id": "852b6394",
   "metadata": {},
   "outputs": [],
   "source": [
    "similarity_matrix = cosine_similarity(scaled_features)"
   ]
  },
  {
   "cell_type": "code",
   "execution_count": 30,
   "id": "def81a5f",
   "metadata": {},
   "outputs": [],
   "source": [
    "similarity_df = pd.DataFrame(similarity_matrix, index=customer_features['CustomerID'], columns=customer_features['CustomerID'])"
   ]
  },
  {
   "cell_type": "code",
   "execution_count": 31,
   "id": "9187737f",
   "metadata": {},
   "outputs": [],
   "source": [
    "lookalikes = {}\n",
    "for customer_id in customer_features['CustomerID']:\n",
    "    similar_customers = similarity_df[customer_id].sort_values(ascending=False)[1:4]  # Exclude self (highest similarity)\n",
    "    lookalikes[customer_id] = [(similar_id, round(score, 4)) for similar_id, score in similar_customers.items()]\n"
   ]
  },
  {
   "cell_type": "code",
   "execution_count": 32,
   "id": "17c686a4",
   "metadata": {},
   "outputs": [],
   "source": [
    "lookalike_data = []\n",
    "for customer_id, similar_list in lookalikes.items():\n",
    "    for similar_id, score in similar_list:\n",
    "        lookalike_data.append({'CustomerID': customer_id, 'SimilarCustomerID': similar_id, 'SimilarityScore': score})\n"
   ]
  },
  {
   "cell_type": "code",
   "execution_count": 33,
   "id": "00d183a6",
   "metadata": {},
   "outputs": [],
   "source": [
    "lookalike_df = pd.DataFrame(lookalike_data)\n",
    "lookalike_df.to_csv(\"FirstName_LastName_Lookalike.csv\", index=False)"
   ]
  },
  {
   "cell_type": "code",
   "execution_count": 34,
   "id": "c7405203",
   "metadata": {},
   "outputs": [
    {
     "name": "stdout",
     "output_type": "stream",
     "text": [
      "   CustomerID SimilarCustomerID  SimilarityScore\n",
      "0       C0001             C0026           0.9986\n",
      "1       C0001             C0184           0.9967\n",
      "2       C0001             C0127           0.9962\n",
      "3       C0002             C0029           0.9999\n",
      "4       C0002             C0088           0.9980\n",
      "5       C0002             C0129           0.9905\n",
      "6       C0003             C0160           0.9987\n",
      "7       C0003             C0086           0.9970\n",
      "8       C0003             C0038           0.9970\n",
      "9       C0004             C0175           0.9936\n",
      "10      C0004             C0017           0.9923\n",
      "11      C0004             C0075           0.9905\n",
      "12      C0005             C0186           0.9983\n",
      "13      C0005             C0192           0.9979\n",
      "14      C0005             C0112           0.9976\n",
      "15      C0006             C0117           0.9948\n",
      "16      C0006             C0064           0.9823\n",
      "17      C0006             C0187           0.9772\n",
      "18      C0007             C0146           1.0000\n",
      "19      C0007             C0120           0.9970\n",
      "20      C0007             C0192           0.9929\n",
      "21      C0008             C0136           0.9984\n",
      "22      C0008             C0124           0.9982\n",
      "23      C0008             C0113           0.9895\n",
      "24      C0009             C0198           1.0000\n",
      "25      C0009             C0150           0.9986\n",
      "26      C0009             C0083           0.9973\n",
      "27      C0010             C0176           0.9895\n",
      "28      C0010             C0029           0.9892\n",
      "29      C0010             C0002           0.9886\n",
      "30      C0011             C0139           0.9999\n",
      "31      C0011             C0064           0.9852\n",
      "32      C0011             C0024           0.9834\n",
      "33      C0012             C0163           0.9946\n",
      "34      C0012             C0182           0.9917\n",
      "35      C0012             C0138           0.9881\n",
      "36      C0013             C0145           0.9913\n",
      "37      C0013             C0053           0.9913\n",
      "38      C0013             C0093           0.9873\n",
      "39      C0014             C0060           0.9994\n",
      "40      C0014             C0097           0.9993\n",
      "41      C0014             C0128           0.9978\n",
      "42      C0015             C0063           0.9989\n",
      "43      C0015             C0123           0.9986\n",
      "44      C0015             C0078           0.9965\n",
      "45      C0016             C0040           0.9997\n",
      "46      C0016             C0183           0.9874\n",
      "47      C0016             C0107           0.9852\n",
      "48      C0017             C0169           0.9977\n",
      "49      C0017             C0004           0.9923\n",
      "50      C0017             C0018           0.9743\n",
      "51      C0018             C0153           0.9957\n",
      "52      C0018             C0122           0.9877\n",
      "53      C0018             C0101           0.9826\n",
      "54      C0019             C0142           0.9998\n",
      "55      C0019             C0073           0.9924\n",
      "56      C0019             C0027           0.9802\n",
      "57      C0020             C0130           0.9986\n",
      "58      C0020             C0095           0.9949\n",
      "59      C0020             C0119           0.9891\n"
     ]
    }
   ],
   "source": [
    "first_20_lookalikes = lookalike_df[lookalike_df['CustomerID'].isin(customers['CustomerID'][:20])]\n",
    "print(first_20_lookalikes)"
   ]
  },
  {
   "cell_type": "code",
   "execution_count": 35,
   "id": "34762863",
   "metadata": {},
   "outputs": [
    {
     "name": "stdout",
     "output_type": "stream",
     "text": [
      "Lookalike Model completed. Results saved to 'FirstName_LastName_Lookalike.csv'.\n"
     ]
    }
   ],
   "source": [
    "print(\"Lookalike Model completed. Results saved to 'FirstName_LastName_Lookalike.csv'.\")"
   ]
  },
  {
   "cell_type": "code",
   "execution_count": null,
   "id": "19483bd5",
   "metadata": {},
   "outputs": [],
   "source": []
  },
  {
   "cell_type": "code",
   "execution_count": null,
   "id": "0d40487b",
   "metadata": {},
   "outputs": [],
   "source": []
  }
 ],
 "metadata": {
  "kernelspec": {
   "display_name": "Python 3 (ipykernel)",
   "language": "python",
   "name": "python3"
  },
  "language_info": {
   "codemirror_mode": {
    "name": "ipython",
    "version": 3
   },
   "file_extension": ".py",
   "mimetype": "text/x-python",
   "name": "python",
   "nbconvert_exporter": "python",
   "pygments_lexer": "ipython3",
   "version": "3.10.9"
  }
 },
 "nbformat": 4,
 "nbformat_minor": 5
}
